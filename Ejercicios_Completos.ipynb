{
 "cells": [
  {
   "cell_type": "code",
   "execution_count": 1,
   "id": "b9873093-5f55-4288-819e-b855b5ce7349",
   "metadata": {},
   "outputs": [],
   "source": [
    "import math "
   ]
  },
  {
   "cell_type": "markdown",
   "id": "706a3e09-101e-4f20-8dea-5d2522a18d6b",
   "metadata": {},
   "source": [
    "## 9. Sólo para practicar. Los números telefónicos en la ciudad de Cuernavaca, Morelos, constan de siete dígitos."
   ]
  },
  {
   "cell_type": "markdown",
   "id": "a1bc45d2-34ca-4442-850f-be475d0dd8ce",
   "metadata": {},
   "source": [
    "<font size=\"4\"> **a)** ¿Cuántas líneas telefónicas pueden crearse en esa ciudad? Recuerda que no pueden comenzar con cero.</font>\n",
    "\n",
    "\n",
    "Para calcular el número posible de líneas telefónicas en Cuernavaca, Morelos necesitamos considerar lo siguiente:\n",
    "\n",
    "- Cada número telefónico consta de siete dígitos.\n",
    "- El primer dígito no puede ser cero.\n",
    "- Los seis dígitos restantes pueden ser cualquier número del 0 al 9.\n",
    "\n",
    "Asi que para poder determinar el número total de líneas telefónicas que podemos crear, debemos analizar las posibilidades para cada dígito:\n",
    "\n",
    "- Primer dígito: Tenemos 9 opciones (del 1 al 9).\n",
    "\n",
    "- Dígitos restantes: Para cada uno de los seis dígitos restantes, tenemos 10 opciones (del 0 al 9).\n",
    "\n",
    "Por lo tanto el número total de líneas telefónicas se calcula multiplicando el número de posibilidades para cada dígito:\n",
    "\n",
    "$$Número\\ de\\ líneas\\ telefónicas = 9 \\times 10^6$$\n",
    "\n",
    "Siguiendo esta lógica, se pueden crear un total de **9,000,000** líneas telefónicas. Implementando la lógica en python se ve de esta manera: "
   ]
  },
  {
   "cell_type": "code",
   "execution_count": 4,
   "id": "13d1bf12-5523-429a-a779-1e69deb0aefd",
   "metadata": {},
   "outputs": [
    {
     "name": "stdout",
     "output_type": "stream",
     "text": [
      "El número total de líneas telefónicas posibles es: 9000000.0\n"
     ]
    }
   ],
   "source": [
    "primer_digito = 9 # Primer digito (1 al 9)\n",
    "digitos_restantes = 10 # Digitos restantes (0 al 9)\n",
    "\n",
    "lineas_telefonicas = primer_digito * math.pow(digitos_restantes, 6)\n",
    "\n",
    "print(\"El número total de líneas telefónicas posibles es:\", lineas_telefonicas)\n"
   ]
  },
  {
   "cell_type": "markdown",
   "id": "58f14502-6e3d-4075-a779-acc5b1094b66",
   "metadata": {},
   "source": [
    "<font size=\"4\"> **b)** Si los tres primeros dígitos representan una zona de Cuernavaca, ¿cuántas líneas telefónicas pertenecen a la zona 326? </font>\n",
    "\n",
    "Para calcular el número de líneas telefónicas en la zona 326, necesitamos considerar lo siguiente:\n",
    "\n",
    "- Hay dígitos fijos: Los números telefónicos de la zona 326 de Cuernavaca comienzan con los dígitos 3, 2 y 6. Estos tres primeros dígitos no pueden variar.\n",
    "- Hay dígitos variables: Los últimos cuatro dígitos pueden ser cualquier número del 0 al 9, lo que nos da 10 opciones para cada uno de ellos.\n",
    "\n",
    "Para determinar cuántas líneas telefónicas pertenecen a la zona 326, calculamos las combinaciones posibles de los últimos cuatro dígitos:\n",
    "\n",
    "$$Número\\ de\\ líneas = 10 * 10 * 10 * 10 = 10^4$$\n",
    "\n",
    "Al realizar este cálculo, obtenemos:\n",
    "\n",
    "$$Número\\ de\\ líneas = 10,000$$\n",
    "\n",
    "Asi que en la zona 326 de Cuernavaca, se pueden crear un total de **10,000** líneas telefónicas. Al igual, implementemos esa logica en python:"
   ]
  },
  {
   "cell_type": "code",
   "execution_count": 5,
   "id": "20fdf2ba-6d3a-40a0-b395-f886553f44e6",
   "metadata": {},
   "outputs": [
    {
     "name": "stdout",
     "output_type": "stream",
     "text": [
      "b) El número de líneas telefónicas que se pueden crear en la zona 326 es: 100000.0\n"
     ]
    }
   ],
   "source": [
    "digitos_variables = 10  # Opciones para cada uno de los últimos cuatro dígitos (0-9)\n",
    "\n",
    "lineas_zona_326 = digitos_variables * math.pow(digitos_variables, 4)\n",
    "\n",
    "print(\"b) El número de líneas telefónicas que se pueden crear en la zona 326 es:\", lineas_zona_326)\n"
   ]
  },
  {
   "cell_type": "markdown",
   "id": "6ac80807-efbe-456e-a4fb-6903c8d696f7",
   "metadata": {},
   "source": [
    "## 10. Sólo para practicar. Se tiene la palabra MURCIÉLAGO. Si no se permiten repeticiones al usar las letras que la forman, determina:\n"
   ]
  },
  {
   "cell_type": "markdown",
   "id": "a804c26c-6e5c-490e-9acc-d6ae96d18743",
   "metadata": {},
   "source": [
    "<font size=\"4\"> **a)** El número de palabras que puedes crear.</font>\n",
    "\n",
    "Imaginemos que tenemos 10 espacios en blanco para formar una palabra. \n",
    "\n",
    "En el primer espacio, podemos colocar cualquiera de las 10 letras disponibles. Para el segundo espacio, solo nos quedan 9 letras, ya que no puedes repetir la que ya usamos. En el tercer espacio, tendremos 8 opciones, y así sucesivamente.\n",
    "\n",
    "Entonces se puede decir que el número total de palabras posibles se obtiene multiplicando el número de opciones para cada espacio:\n",
    "\n",
    "$$10\\ opciones \\cdot 9\\ opciones \\cdot 8\\ opciones \\cdot ... \\cdot 2\\ opciones \\cdot 1\\ opción$$\n",
    "\n",
    "A esta operación matemática se le conoce como factorial y se denota con el símbolo \"!\". En este caso, sería $10!$ (factorial de 10).\n",
    "\n",
    "Asi obtenemos que el factorial de 10 es:\n",
    "\n",
    "$$10! = 3,628,800$$\n",
    "\n",
    "Siguiendo la misma lógica en python podemos crear el siguiente codigo:"
   ]
  },
  {
   "cell_type": "code",
   "execution_count": 7,
   "id": "db5a5765-1f2b-4797-bd76-00d7f5c6cef3",
   "metadata": {},
   "outputs": [
    {
     "name": "stdout",
     "output_type": "stream",
     "text": [
      "El número total de palabras posibles es: 3628800\n"
     ]
    }
   ],
   "source": [
    "n_letras = 10  # Número de letras distintas\n",
    "total_palabras = math.factorial(n_letras)\n",
    "\n",
    "print(\"El número total de palabras posibles es:\", total_palabras)\n"
   ]
  },
  {
   "cell_type": "markdown",
   "id": "442f553e-3f75-46a0-8268-3f3203a179be",
   "metadata": {},
   "source": [
    "<font size=\"4\"> **b)** El número de palabras con cinco letras.</font>\n",
    "\n",
    "Siguiendo la misma lógica que en el anterior, podemos visualizar 5 espacios en blanco para formar palabras de cinco letras. \n",
    "\n",
    "En el primer espacio, tenemos 10 opciones de letras. En el segundo, nos quedan 9 opciones, y así hasta el quinto espacio.\n",
    "\n",
    "El número total de palabras de cinco letras se calcula multiplicando el número de opciones para cada espacio:\n",
    "\n",
    "$$10\\ opciones \\times 9\\ opciones \\times 8\\ opciones \\times 7\\ opciones \\times 6\\ opciones = 30,240$$\n",
    "\n",
    "Por lo tanto, podemos formar un total de 30,240 palabras diferentes de cinco letras utilizando 10 letras distintas sin repetirlas.\n",
    "\n",
    "Para mejorar la lógica del un código que escribiremos en python para resolver este inciso, podemos utilizar una fórmula matemática.\n",
    "\n",
    "La fórmula para calcular las permutaciones es:\n",
    "\n",
    "$$ P(n,k) = \\dfrac{n!}{(n-k)!}$$\n",
    "\n",
    "En donde:\n",
    "- 𝑛 es el número total de letras disponibles (10 en este caso) \n",
    "- 𝑘 es el número de letras en cada palabra (5 en este caso). \n",
    "\n",
    "Reemplazando los valores en nuestra formula quedaria de la siguiente manera: \n",
    "\n",
    "$$\n",
    "\\begin{align}\n",
    "    _10P_5 &= \\dfrac{10!}{(10 - 5)!}\\\\\n",
    "    _10P_3 &= \\dfrac{10!}{5!} = \\dfrac{3,628,800}{120} \\\\\n",
    "    _10P_3 &= 30,240\n",
    "\\end{align}\n",
    "$$\n",
    "\n",
    "Asi que esto se puede calcular de manera más eficiente usando la función math.perm en Python con el siguiente codigo:"
   ]
  },
  {
   "cell_type": "code",
   "execution_count": 8,
   "id": "3029c4d4-3bb8-4697-a4ae-603e953fc98c",
   "metadata": {},
   "outputs": [
    {
     "name": "stdout",
     "output_type": "stream",
     "text": [
      "El número total de palabras de cinco letras es: 30240\n"
     ]
    }
   ],
   "source": [
    "n_letras = 10  # Número total de letras distintas\n",
    "k_letras = 5   # Número de letras en cada palabra\n",
    "\n",
    "# Calculamos el número de permutaciones de 10 letras tomando de 5 en 5\n",
    "total_palabras = math.perm(n_letras, k_letras)\n",
    "\n",
    "print(\"El número total de palabras de cinco letras es:\", total_palabras)\n"
   ]
  },
  {
   "cell_type": "markdown",
   "id": "d34600f3-91de-4215-9390-ffa7e2505a2a",
   "metadata": {},
   "source": [
    "<font size=\"4\"> **c)** La probabilidad de que una palabra de cinco letras termine en vocal.</font>\n",
    "\n",
    "Para calcular la probabilidad de que una palabra de cinco letras termine en vocal tenemos que considerar que tenemos 5 vocales (A, E, I, O, U) en la palabra MURCIELAGO y tambien tenermos 5 consonantes en la palabra MURCIÉLAGO: M, R, C, L, G.\n",
    "\n",
    "En el apartado anterior, calculamos que hay 30,240 palabras posibles de cinco letras con estas 10 letras distintas.\n",
    "\n",
    "Para calcular la probabilidad tenemos que tener 2 cosas:\n",
    "\n",
    "    1. Casos favorables\n",
    "    2. Casos totales \n",
    "\n",
    "1. Los casos favorables:\n",
    "\n",
    "- Para que una palabra termine en vocal, tenemos 5 opciones para la última letra.\n",
    "- Las cuatro letras restantes se pueden elegir y ordenar de $P(9,4)$ maneras, que son las permutaciones de 9 elementos tomando de 4 en 4.\n",
    "\n",
    "2. Casos totales:\n",
    "\n",
    "- El número total de palabras de cinco letras es $P(10,5)$, que son las permutaciones de 10 elementos tomando de 5 en 5.\n",
    "\n",
    "\n",
    "\n",
    "\n",
    "Sustituyendo los valores en la formula quedaria de la siguiente forma:\n",
    "\n",
    "Para sacar el numero de letras se agarra una vocal para terminar, eso quiere decir que permutaremos las 4 letras de las 9 restantes, ya que hemos tomado una para el final.\n",
    "$$\n",
    "       {9}C{4}  = \\dfrac{9!}{(9 - 4)!} = \\dfrac{9!}{5!}\\\\\n",
    "$$\n",
    "Sabemos que el factrial de 5 es 120, pero falta el factorial de 9:\n",
    "\n",
    "$$\n",
    "    9! = 9 \\cdot 8 \\cdot 7 \\cdot 6 \\cdot 5 \\cdot 4 \\cdot 3 \\cdot 2 \\cdot 1 = 362880\n",
    "$$\n",
    "Asi que:\n",
    "$$\n",
    "    {9}C{4}  = \\dfrac{62880}{120} = 3024\\\\\n",
    "$$\n",
    "Multiplicamos el resultado con las 5 maneras:\n",
    "\n",
    "$$\n",
    "    5 \\times 3024 = 15120\n",
    "$$\n",
    "\n",
    "La probabilidad de que una palabra termine en vocal se calcula como:\n",
    "$$Probabilidad = \\frac{Casos\\ favorables}{Casos\\ totales}$$\n",
    "\n",
    "La probabilidad de que una palabra de cinco letras termine en una vocal es el número de palabras que terminan en una vocal dividido por el número total de palabras de cinco letras, o sea:\n",
    "$$\n",
    "    Probabilidad = \\dfrac {15120}{30240} = \\dfrac {1}{2} = 0.5\n",
    "$$\n",
    "\n",
    "Por lo tanto, la probabilidad de que una palabra de cinco letras termine en vocal es un 0.5\n",
    "\n",
    "Ahora implementemos la logica en python, quedaria de la siguiente manera:"
   ]
  },
  {
   "cell_type": "code",
   "execution_count": 10,
   "id": "e0408da6-6241-42fa-88d7-2c0fe5b91415",
   "metadata": {},
   "outputs": [
    {
     "name": "stdout",
     "output_type": "stream",
     "text": [
      "La probabilidad de que una palabra de cinco letras termine en vocal es: 50.0 %\n"
     ]
    }
   ],
   "source": [
    "n_vocales = 5 # Número de vocales disponibles\n",
    "\n",
    "total_letras = 10 # Número total de letras disponibles\n",
    "\n",
    "letras_por_palabra = 5 # Número de letras en cada palabra\n",
    "\n",
    "letras_restantes = total_letras - 1 # Número de letras restantes después de seleccionar una vocal para la última posición\n",
    "\n",
    "# Permutaciones de 9 letras tomadas de 4 en 4 (para las 4 letras restantes después de elegir la vocal)\n",
    "casos_favorables = n_vocales * math.perm(letras_restantes, letras_por_palabra - 1)\n",
    "\n",
    "# Permutaciones de 10 letras tomadas de 5 en 5 (total de palabras de 5 letras)\n",
    "casos_totales = math.perm(total_letras, letras_por_palabra)\n",
    "\n",
    "# Cálculo de la probabilidad\n",
    "probabilidad = casos_favorables / casos_totales\n",
    "\n",
    "print(\"La probabilidad de que una palabra de cinco letras termine en vocal es:\", probabilidad*100,\"%\") \n"
   ]
  },
  {
   "cell_type": "markdown",
   "id": "37ff81b0-75fe-4f17-ae74-62f2ed266096",
   "metadata": {},
   "source": [
    "## 11 Parque vehicular. La Ciudad de México tiene placas de automóviles con tres números seguidos por tres letras, es decir, son placas del tipo 999-AAA. Sin embargo, no pueden empezar con 0 (cero) ni se utilizan las letras I, O, Q y Ñ."
   ]
  },
  {
   "cell_type": "markdown",
   "id": "0361dec8",
   "metadata": {},
   "source": [
    "#### a) ¿Cuántas placas diferentes son posibles?"
   ]
  },
  {
   "cell_type": "markdown",
   "id": "af368163",
   "metadata": {},
   "source": [
    "Para calcular el número de placas diferentes posibles, debemos tener en cuenta las siguientes restricciones:\n",
    "- Las placas tienen 3 números seguidos de 3 letras\n",
    "- No pueden empezar con 0 (cero)\n",
    "- No se utilizan las letras I, O, Q y Ñ\n",
    "\n",
    "Se realizo el apartado donde las placas tienen tres numeros seguidos de tres letras el cual consta con 9 dijitos el primer espacio ya que el enunciado dice que en el primer espacio (digito) no acepta el 0.\n",
    "- En el estacio dos y tres ya acepta todos los dijitos mencionados, desde el **0** hasta el **9** y eso hace referente al 10 porque del **0** al **9** existen 10 numeros.\n",
    "- Y pasamos a realizar la multiplicacion para tener los posibles numeros diferentes.\n",
    "$$\n",
    "\\begin{align}\n",
    "    Números: & \\quad 9 \\times 10 \\times 10 = 900 \\\\\n",
    "\\end{align}\n",
    "$$\n",
    "\n",
    "Pasamos a realizar con el de letras, solo que aqui no incluimos las letras indicadas entonces como el abecedario tiene **27** letras, a esos **27** le quitamos esas **4** letras y por eso mismo nos da **23** para poder realizar nuestras operaciones en los tres lugares donde vamos a pocisionar las letras.\n",
    "$$\n",
    "\\begin{align}\n",
    "    Letras:& \\quad 23 \\times 23 \\times 23 = 12,167 \\\\\n",
    "\\end{align}\n",
    "$$\n",
    "\n",
    "Por ultimo para tener todas la posiblidades generales multiplicamos el resultado de numeros por el de letras y obtenemos **10,950,300** posibles placas.\n",
    "$$\n",
    "\\begin{align}\n",
    "    Placas diferentes:& \\quad 900 \\times 12,167 = 10,950,300\n",
    "\\end{align}\n",
    "$$\n"
   ]
  },
  {
   "cell_type": "code",
   "execution_count": 1,
   "id": "120ff011",
   "metadata": {},
   "outputs": [
    {
     "name": "stdout",
     "output_type": "stream",
     "text": [
      "a) Placas diferentes posibles: 10950300\n"
     ]
    }
   ],
   "source": [
    "pri_dig = 9 \n",
    "otros_dig = 10  \n",
    "\n",
    "numero_digitos = pri_dig * otros_dig * otros_dig\n",
    "num_letras=23\n",
    "num_posib_letras = num_letras ** 3\n",
    "\n",
    "placas_totales = numero_digitos * num_posib_letras\n",
    "\n",
    "print(\"a) Placas diferentes posibles:\", placas_totales)"
   ]
  },
  {
   "cell_type": "markdown",
   "id": "57924c83",
   "metadata": {},
   "source": [
    "#### b) ¿Cuántas placas diferentes terminan en vocal?"
   ]
  },
  {
   "cell_type": "markdown",
   "id": "ee1a6e58",
   "metadata": {},
   "source": [
    "Para este inciso solo es posible utilizar para las placas, las siguientes vocales como ultimo digito que son **A, E y U** porque el enunciado dice que no puedes usar 4 letras y en esas 4 se uncuentran dos vocales que son **I, O**.\n",
    "- Entonces vamos a multiplicar las letras de la siguiente manera. Porque a diferencia del inciso anterior, en lugar del ultimo 23 que generaliza todas las letras ahi solo se pondran el numero de vocales que estan permitidas por el enunciado.\n",
    "$$\n",
    "\\begin{align}\n",
    "    Letras: & \\quad 23 \\times 23 \\times 3 = 1,587 \\\\\n",
    "\\end{align}\n",
    "$$\n",
    "Nos da un resultado de **1587** diferentes terminaciones en vocal.\n",
    "- Por ultimo esos **1587** se multiplicaran por los diferentes numeros, esa cantidad la podemos tomar del inciso anterior, y quedaria de la siguiente manera la multiplicacion.\n",
    "$$\n",
    "\\begin{align}\n",
    "    Placas diferentes en terminacion de vocal: & \\quad 900 \\times 1,587 = 1,428,300\n",
    "\\end{align}\n",
    "$$"
   ]
  },
  {
   "cell_type": "code",
   "execution_count": 2,
   "id": "6208db1e",
   "metadata": {},
   "outputs": [
    {
     "name": "stdout",
     "output_type": "stream",
     "text": [
      "b) Placas que terminan en vocal: 1428300\n"
     ]
    }
   ],
   "source": [
    "num_vocales = 3  \n",
    "pterminan_vocal = numero_digitos * (num_letras * num_letras * num_vocales)\n",
    "\n",
    "print(\"b) Placas que terminan en vocal:\", pterminan_vocal)"
   ]
  },
  {
   "cell_type": "markdown",
   "id": "502099ce",
   "metadata": {},
   "source": [
    "#### c) ¿Cuál es la probabilidad de que una placa, elegida al azar, sea impar?"
   ]
  },
  {
   "cell_type": "markdown",
   "id": "a1d4dedb",
   "metadata": {},
   "source": [
    "- Probabilidad de que la placa termine en número impar:\n",
    "\n",
    "\n",
    "- Primero se multiplico de esta manera porque 9 son los numeros que acepta el primer digito, el 10 porque son los numeros que acepta el segundo digito y 5 porque son la cantidad de numero impares que hay en ese rango de 0 a 9.\n",
    "$$\n",
    "\\begin{align}\n",
    "     & 9 \\times 10 \\times 5 = 450\n",
    "\\end{align}\n",
    "$$\n",
    "\n",
    "- Despues se multiplico de esta otra manera, 9 son los numeros que acepta el primer digito, el 10 porque son los numeros que acepta el segundo digito y el 10 porque son los numeros que acepta el tercer digito, ya que en el tercer digito deben ser todos los posbles numeros porque despues vamos a dividir para sacar la probabilidad.\n",
    "$$\n",
    "\\begin{align}\n",
    "     & 9 \\times 10 \\times 10 = 900\n",
    "\\end{align}\n",
    "$$\n",
    "\n",
    "- Por ultimo sacamos la probabilidad donde dividimos **450** que fue con numeros impares, entre **900** que fueron los numeros completos que esto representa un 100% de los posibles numeros.\n",
    "$$\n",
    "\\begin{align}\n",
    "     \\text{Probabilidad de que la placa termine en número impar} = \\frac{450}{900} = 0.5\n",
    "\\end{align}\n",
    "$$"
   ]
  },
  {
   "cell_type": "code",
   "execution_count": 3,
   "id": "f0a5d9b1",
   "metadata": {},
   "outputs": [
    {
     "name": "stdout",
     "output_type": "stream",
     "text": [
      "c) Probabilidad de que una placa, elegida al azar, sea impar: 0.5\n"
     ]
    }
   ],
   "source": [
    "num_digitos_impares = 5\n",
    "placas_impares = (pri_dig * otros_dig) * num_digitos_impares * num_posib_letras\n",
    "\n",
    "probabilidad_impar = placas_impares / placas_totales\n",
    "\n",
    "print(\"c) Probabilidad de que una placa, elegida al azar, sea impar:\", probabilidad_impar)"
   ]
  },
  {
   "cell_type": "markdown",
   "id": "acee9532-4fff-4a6f-b524-9c416385068b",
   "metadata": {},
   "source": [
    "## 12 Servicios restauranteros. Una cadena de hamburguesas anuncia que se ofrecen 512 maneras de pedir una hamburguesa. Un cliente puede elegir cualquiera de estos ingredientes: cátsup, mostaza, mayonesa, aderezo de la casa, cebolla, pepinillos, jitomate, tocino y lechuga. ¿Crees que lo que afirma la empresa sea cierto? Justifica tu respuesta."
   ]
  },
  {
   "cell_type": "markdown",
   "id": "033bc81f",
   "metadata": {},
   "source": [
    "- Se conoce que tenemos 9 ingredientes en total los cuales los vamos a representar como **\"n = 9\"**.\n",
    "- De los 9 ingredientes podemos escoger cuales quiera de esos 9 ingredientes donde lo vamos a representar como **\"r\"** , la cual puede ser de 0 a 9.\n",
    "$$\n",
    "\\begin{align}\n",
    "    _nC_r &= \\dfrac{n!}{r!(n - r)!}\\\\ \n",
    "\\end{align}\n",
    "$$\n",
    "- Para su resolucion se aplicara sumatoria de combinaciones:\n",
    "$$\n",
    "\\begin{align}\n",
    "    _\\Sigma (_9C_r)\\\\\n",
    "\\end{align}\n",
    "$$\n",
    "\n",
    "- Se realizo los calculos de las conbinaciones, donde **\"r\"** va desde **0** hasta **9**. \n",
    "$$\n",
    "\\begin{align}\n",
    "    _9C_0 &= \\dfrac{9!}{0!(9 - 0)!} = 1\\\\\n",
    "    _9C_1 &= \\dfrac{9!}{1!(9 - 1)!} = 9\\\\\n",
    "    _9C_2 &= \\dfrac{9!}{2!(9 - 2)!} = 36\\\\\n",
    "    _9C_3 &= \\dfrac{9!}{3!(9 - 3)!} = 84\\\\\n",
    "    _9C_4 &= \\dfrac{9!}{4!(9 - 4)!} = 126\\\\\n",
    "    _9C_5 &= \\dfrac{9!}{5!(9 - 5)!} = 126\\\\\n",
    "    _9C_6 &= \\dfrac{9!}{6!(9 - 6)!} = 84\\\\\n",
    "    _9C_7 &= \\dfrac{9!}{7!(9 - 7)!} = 36\\\\\n",
    "    _9C_8 &= \\dfrac{9!}{8!(9 - 8)!} = 9\\\\\n",
    "    _9C_9 &= \\dfrac{9!}{9!(9 - 9)!} = 1\\\\\n",
    "\\end{align}\n",
    "$$\n",
    "\n",
    "- Una vez teniendo todas las combinaciones hacemos la sumatoria de ellas para saber el total en general.\n",
    "$$\n",
    "\\begin{align}\n",
    "    Combinaciones &= 1 + 9 + 36 + 84 + 126 + 126 + 84 + 36 + 9 + 1 = 512\n",
    "\\end{align}\n",
    "$$\n",
    "\n",
    "\n",
    "Entonces concluimos que se pueden realizar **512** combinaciones de hamburguesas."
   ]
  },
  {
   "cell_type": "code",
   "execution_count": null,
   "id": "0d4d3903",
   "metadata": {},
   "outputs": [],
   "source": [
    "from math import factorial\n",
    "\n",
    "def combinaciones(n, r):\n",
    "    return factorial(n) // (factorial(r) * factorial(n-r))\n",
    "\n",
    "compar = 0\n",
    "for r in range(10):\n",
    "    compar += combinaciones(9, r)\n",
    "print(f\"Existen {int(compar)} combinaciones de hamburguesas\")\n"
   ]
  },
  {
   "cell_type": "markdown",
   "id": "be64b651-3a4f-42c7-8e0e-98af66d01778",
   "metadata": {},
   "source": [
    "## 13 \n",
    "Una persona tiene un libro de cada uno de los autores siguientes: Mario Vargas Llosa,\n",
    "Alberto Ruy Sánchez, Gabriel García Márquez, Günther Grass, Patrick Süskind, Heinrich Böll,\n",
    "Arturo Pérez-Reverte y Camilo José Cela.\n",
    "\n",
    "Como aún no los ha leído, quiere ponerlos en una\n",
    "repisa cerca de su cama. De acuerdo con esto, determina:\n"
   ]
  },
  {
   "cell_type": "markdown",
   "id": "9aef7585",
   "metadata": {},
   "source": [
    "- a) ¿De cuántas formas puede acomodar los libros sobre la repisa?\n"
   ]
  },
  {
   "cell_type": "markdown",
   "id": "83a2e9b6",
   "metadata": {},
   "source": [
    "Debido a que no pide que se acomode de una manera en especifica, solamente necesitamos calcular el factorial del total de libros que tenemos\n",
    "\n",
    "Solución:\n",
    "\n",
    "$$\n",
    "\\begin{align}\n",
    "8! = 8 \\cdot 7 \\cdot 6 \\cdot 5 \\cdot 4 \\cdot 3 \\cdot 2 \\cdot 1 = 40{,}320\n",
    "\\end{align}\n",
    "$$\n",
    "\n",
    "Por lo cual existen **40,320 formas** de acomodar los libros \n",
    "\n"
   ]
  },
  {
   "cell_type": "code",
   "execution_count": null,
   "id": "1f1ff851",
   "metadata": {},
   "outputs": [],
   "source": [
    "# Implementación de la solución del incisio a) del ejercicio 13\n",
    "a = 8\n",
    "formas_acomodar = math.factorial(a)\n",
    "\n",
    "print(f'Hay {formas_acomodar} formas de acomodar los libros sobre la repisa')"
   ]
  },
  {
   "cell_type": "markdown",
   "id": "e2f4f3c6",
   "metadata": {},
   "source": [
    "- b) ¿De cuántas maneras puede ordenarlos si quiere que los libros de autores latinoamericanos estén juntos?\n"
   ]
  },
  {
   "cell_type": "markdown",
   "id": "cc724c40",
   "metadata": {},
   "source": [
    "Antes de hacer los calculos correspondientes deberemos saber cuales autores son latinoamericanos\n",
    "\n",
    "Latinoamericanos: Mario Vargas Llosa, Alberto Ruy Sánchez, Gabriel García Márquez\n",
    "\n",
    "Conociendo que autores son Latinoamericanos los contemplaremos como un solo bloque, en lugar de tener 8 autores ahora tendremos 6 (Un bloque de autores Latinoamericanos y 5 de otros autores)\n",
    "\n",
    "- Primero, vamos a calcular el número de formas de ordenar estos 6 elementos:\n",
    "$$\n",
    "\\begin{align}\n",
    "6! = 6 \\cdot 5 \\cdot 4 \\cdot 3 \\cdot 2 \\cdot 1 = 720\n",
    "\\end{align}\n",
    "$$\n",
    "\n",
    "- Debemos considerar que los 3 libros dentro del bloque de Latinoamericanos se pueden ordenar de maneras diferentes, por lo cual calculamos las formas en que se pueden ordenar ese bloque de manera interna\n",
    "$$\n",
    "\\begin{align}\n",
    "3! = 3 \\cdot 2 \\cdot 1 = 6\n",
    "\\end{align}\n",
    "$$\n",
    "\n",
    "- Para obtener el número total de formas de ordenar los libros, multiplicamos las permutaciones de los 6 elementos por las permutaciones dentro del bloque latinoamericano:\n",
    "$$\n",
    "\\begin{align}\n",
    "6! \\cdot 3! = 720 \\cdot 6 = 4{,}320\n",
    "\\end{align}\n",
    "$$\n",
    "\n",
    "Entonces existe **4320 maneras** de ordenarlos si solo los autores latinoamericanos deben de estar juntos \n"
   ]
  },
  {
   "cell_type": "code",
   "execution_count": null,
   "id": "cfa1e063",
   "metadata": {},
   "outputs": [],
   "source": [
    "# Implementación de la solución del incisio b) del ejercicio 13\n",
    "\n",
    "resto_autores = 6\n",
    "lat_autores = 3\n",
    "\n",
    "# Maneras de ordenar 6 elementos\n",
    "libros_6_ = math.factorial(resto_autores)\n",
    "\n",
    "# Maneras de ordenar 3 libros dentro del bloque\n",
    "libros_3_ = math.factorial(lat_autores)\n",
    "\n",
    "# Número total de maneras\n",
    "total = libros_6_ * libros_3_\n",
    "\n",
    "\n",
    "print(f'Existen {total} maneras de ordenar los libros si los autores latinoamericanos deben de estar juntos')\n"
   ]
  },
  {
   "cell_type": "markdown",
   "id": "1ad0f60e",
   "metadata": {},
   "source": [
    "- c) ¿De cuántas formas puede acomodarlos, si los autores latinoamericanos deben estar juntos, así como los autores alemanes y los españoles también?\n"
   ]
  },
  {
   "cell_type": "markdown",
   "id": "6d7bdc24",
   "metadata": {},
   "source": [
    "Necesitamos saber cuales son los autores Alemanes y Españoles\n",
    "Alemanes: Günther Grass, Patrick Süskind, Heinrich Böll\n",
    "Españoles: Arturo Pérez-Reverte, Camilo José Cela\n",
    "\n",
    "Una vez sabiendo esto los separaremos en 3 bloques \n",
    "Bloque 1: Autores Latinoamericanos (Mario Vargas Llosa, Alberto Ruy Sánchez, Gabriel García Márquez)\n",
    "Bloque 2: Autores Alemanes (Günther Grass, Patrick Süskind, Heinrich Böll)\n",
    "Bloque 3: Autores Españoles (Arturo Pérez-Reverte, Camilo José Cela)\n",
    "\n",
    "- Primero, calculamos el número de formas de ordenar estos 3 bloques:\n",
    "$$\n",
    "\\begin{align}\n",
    "3! = 3 \\cdot 2 \\cdot 1 = 6\n",
    "\\end{align}\n",
    "$$\n",
    "\n",
    "- Ahora calculamos las formas de ordenar dentro de cada bloque \n",
    "$$\n",
    "\\begin{align}\n",
    "Latinoamericanos: ~ 3! = 3 \\cdot 2 \\cdot 1 = 6 \\\\\n",
    "Alemanes: ~ 3! = 3 \\cdot 2 \\cdot 1 = 6 \\\\\n",
    "Españoles: ~ 2! = 2 \\cdot 1 = 2 \\\\\n",
    "\\end{align}\n",
    "$$\n",
    "\n",
    "- Para obtener el número total de formas de ordenar los libros, multiplicamos las permutaciones de los 3 bloques por las permutaciones dentro de cada bloque:\n",
    "$$\n",
    "\\begin{align}\n",
    "3! \\cdot 3! \\cdot 3! \\cdot 2!= 6 \\cdot 6 \\cdot 6 \\cdot 2 = 432\n",
    "\\end{align}\n",
    "$$\n",
    "\n",
    "Entonces llegamos a la conclusión de que existen **432 maneras** de acomodar los libros si los autores latinoamericanos, alemanes y españoles deben estar juntos\n",
    "\n",
    "\n",
    "\n",
    "\n",
    "\n",
    "\n"
   ]
  },
  {
   "cell_type": "code",
   "execution_count": null,
   "id": "22dcad7a",
   "metadata": {},
   "outputs": [],
   "source": [
    "# Implementación de la solución del incisio b) del ejercicio 13\n",
    "\n",
    "lat_autores = 3\n",
    "al_autores = 3\n",
    "es_autores = 2\n",
    "\n",
    "# Número de maneras de ordenar 3 bloques (Los autores de dividen en 3 bloques)\n",
    "permutaciones_b = math.factorial(3)\n",
    "\n",
    "# Maneras de ordenar libros dentro de cada bloque\n",
    "permutaciones_la = math.factorial(lat_autores)\n",
    "permutaciones_al = math.factorial(al_autores)\n",
    "permutaciones_es = math.factorial(es_autores)\n",
    "\n",
    "# Número total de formas\n",
    "total = (permutaciones_b * permutaciones_la * permutaciones_al * permutaciones_es)\n",
    "\n",
    "print(f'Entonces existen {total} maneras de acomodar los libros si se desea que los autores latinoamericanos, alemanes y españoles esten juntos')"
   ]
  },
  {
   "cell_type": "markdown",
   "id": "aa4dc705",
   "metadata": {},
   "source": [
    "- d) Determina las probabilidades correspondientes a los incisos (b) y (c)."
   ]
  },
  {
   "cell_type": "markdown",
   "id": "7f12da93",
   "metadata": {},
   "source": [
    "En el inciso (b), queremos encontrar la probabilidad de que los libros de autores latinoamericanos estén juntos.\n",
    "- Número total de formas de acomodar los libros:\n",
    "$$\n",
    "\\begin{align}\n",
    "8! = 40{,}320\n",
    "\\end{align}\n",
    "$$\n",
    "- Número de formas de acomodar los libros con los autores latinoamericanos juntos:\n",
    "$$\n",
    "\\begin{align}\n",
    "4{,}320\n",
    "\\end{align}\n",
    "$$\n",
    "- Probabilidad\n",
    "$$\n",
    "\\begin{align}\n",
    "P(Latinoamericanos~juntos) &= \\dfrac{4320}{40320} &= 0.107 \n",
    "\\end{align}\n",
    "$$\n",
    "\n",
    "Entonces la probabilidad de que los autores latinoamericanos estén juntos es de 0.107\n",
    "\n",
    "\n"
   ]
  },
  {
   "cell_type": "markdown",
   "id": "663e1cbb",
   "metadata": {},
   "source": [
    "En el inciso (c), queremos encontrar la probabilidad de que los autores latinoamericanos, alemanes y españoles estén juntos en sus respectivos grupos\n",
    "\n",
    "- Número total de formas de acomodar los libros:\n",
    "$$\n",
    "\\begin{align}\n",
    "8! = 40{,}320\n",
    "\\end{align}\n",
    "$$\n",
    "- Número de formas de acomodar los libros con los autores latinoamericanos, alemanes y españoles juntos en sus respectivos grupos:\n",
    "$$\n",
    "\\begin{align}\n",
    "432\n",
    "\\end{align}\n",
    "$$\n",
    "- Probabilidad\n",
    "$$\n",
    "\\begin{align}\n",
    "P(Todos~los~grupos~juntos) &= \\dfrac{432}{40320} &= 0.0107 \n",
    "\\end{align}\n",
    "$$\n",
    "\n",
    "Entonces la probabilidad de que los autores latinoamericanos, alemanes y españoles estén juntos es de 0.0107"
   ]
  },
  {
   "cell_type": "code",
   "execution_count": null,
   "id": "7aa376f6",
   "metadata": {},
   "outputs": [],
   "source": [
    "# Implementación de la solución del incisio b) del ejercicio 13\n",
    "\n",
    "# Número total de maneras de ordenar 8 libros\n",
    "total_m = 40320\n",
    "\n",
    "# Probabilidad para el inciso (b)\n",
    "probabilidad_b = 4320 / total_m\n",
    "\n",
    "# Probabilidad para el inciso (c)\n",
    "probabilidad_c = 432 / total_m\n",
    "\n",
    "print(\"Probabilidad del inciso (b):\", probabilidad_b)\n",
    "print(\"Probabilidad del inciso (c):\", probabilidad_c)"
   ]
  },
  {
   "cell_type": "markdown",
   "id": "c4a245cf-1c58-490b-9790-d038f2492fb7",
   "metadata": {},
   "source": [
    "## 14 \n",
    "Finanzas. Se va a formar un portafolio de inversión de cuatro instrumentos financieros a partir\n",
    "de cinco de renta fija y seis de renta variable. ¿De cuántas maneras podría formarse el portafolio\n",
    "si:"
   ]
  },
  {
   "cell_type": "markdown",
   "id": "b87a1398",
   "metadata": {},
   "source": [
    "- a) No hay restricciones?\n"
   ]
  },
  {
   "cell_type": "markdown",
   "id": "eadf74fb",
   "metadata": {},
   "source": [
    "Debido a que no hay restricciones en la selección de los instrumentos financieros, tenemos que elegir 4 instrumentos de los 11 disponibles (5 de renta fija y 6 de renta variable).\n",
    "Utilizaremos la formula de combinaciones\n",
    "$$\n",
    "_nC_r = \\dfrac{n!}{r!(n - r )!}\n",
    "$$\n",
    "\n",
    "Calculamos las combinaciones de 4 instrumentos de los 11 posibles\n",
    "$$\n",
    "\\begin {align}\n",
    "    _11C_4 = \\dfrac{11!}{4!(11 - 4 )!}\\\\\n",
    "    _11C_4 = \\dfrac{11!}{4!(7)!}\\\\\n",
    "    _11C_4 = \\dfrac{11 \\cdot 10 \\cdot 9 \\cdot 8 \\cdot 7!}{4!(7)!}\\\\\n",
    "    _11C_4 = \\dfrac{11 \\cdot 10 \\cdot 9 \\cdot 8}{4 \\cdot 3 \\cdot 2 \\cdot 1}\\\\\n",
    "    _11C_4 = \\dfrac{7920}{24}\\\\\n",
    "    _11C_4 = 330    \n",
    "\\end{align}\n",
    "$$\n",
    "Entonces hay **330 maneras** de formar el portafolio sin restricciones.\n"
   ]
  },
  {
   "cell_type": "code",
   "execution_count": null,
   "id": "efcc2703",
   "metadata": {},
   "outputs": [],
   "source": [
    "# Implementación de la solución del incisio a) del ejercicio 14\n",
    "\n",
    "n, r = 11, 4\n",
    "\n",
    "sin_restricciones = math.comb(n, r)\n",
    "\n",
    "print(f'Existen {sin_restricciones} maneras de formar el portafolio sin restricciones')"
   ]
  },
  {
   "cell_type": "markdown",
   "id": "d1824c76",
   "metadata": {},
   "source": [
    "- b) Debe haber dos instrumentos de renta fija y dos de renta variable?\n"
   ]
  },
  {
   "cell_type": "markdown",
   "id": "38ba2e89",
   "metadata": {},
   "source": [
    "Seguiremos utilizando combinaciones, por lo cual primero vamos a elegir 2 instrumentos de renta fija de los 5 que están disponibles\n",
    "\n",
    "$$\n",
    "\\begin {align}\n",
    "    _5C_2 = \\dfrac{5!}{2!(5 - 2 )!}\\\\\n",
    "    _5C_2 = \\dfrac{5!}{2!(3)!}\\\\\n",
    "    _5C_2 = \\dfrac{5 \\cdot 4 \\cdot 3!}{2!(3)!}\\\\\n",
    "    _5C_2 = \\dfrac{5 \\cdot 4}{2 \\cdot 1 }\\\\\n",
    "    _5C_2 = \\dfrac{20}{2}\\\\\n",
    "    _5C_2 = 10    \n",
    "\\end{align}\n",
    "$$\n",
    "\n",
    "Ahora vamos a elegir 2 instrumentos de renta variable de los 6 que estan disponibles \n",
    "$$\n",
    "\\begin {align}\n",
    "    _6C_2 = \\dfrac{6!}{2!(6 - 2 )!}\\\\\n",
    "    _6C_2 = \\dfrac{6!}{2!(4)!}\\\\\n",
    "    _6C_2 = \\dfrac{6 \\cdot 5 \\cdot 4!}{2!(4)!}\\\\\n",
    "    _6C_2 = \\dfrac{6 \\cdot 5}{2 \\cdot 1 }\\\\\n",
    "    _6C_2 = \\dfrac{30}{2}\\\\\n",
    "    _6C_2 = 15    \n",
    "\\end{align}\n",
    "$$\n",
    "Por ultimo vamos a multiplicar las combinaciones \n",
    "$$\n",
    "\\begin {align}\n",
    "_5C_2 ~ \\cdot ~ _6C_2 = 10 \\cdot 15 = 150\n",
    "\\end{align}\n",
    "$$\n",
    "\n",
    "Entonces sabemos que hay 150 maneras de formar el portafolio si se debe de tener dos instrumentos de renta fija y dos de renta variable"
   ]
  },
  {
   "cell_type": "code",
   "execution_count": null,
   "id": "beafd3f3",
   "metadata": {},
   "outputs": [],
   "source": [
    "# Implementación de la solución del incisio b) del ejercicio 14\n",
    "\n",
    "# Definir los valores\n",
    "renta_fija = 5\n",
    "renta_variable = 6\n",
    "portafolio = 4\n",
    "\n",
    "# Calcular las combinaciones\n",
    "combinaciones_renta_fija = math.comb(renta_fija, 2)\n",
    "combinaciones_renta_variable = math.comb(renta_variable, 2)\n",
    "\n",
    "# Multiplicar las combinaciones para obtener el total\n",
    "num_total_combinaciones = combinaciones_renta_fija * combinaciones_renta_variable\n",
    "\n",
    "print(f\"El número de maneras de formar el portafolio con 2 instrumentos de renta fija y 2 de renta variable es: {num_total_combinaciones}\")"
   ]
  },
  {
   "cell_type": "markdown",
   "id": "afd4200c",
   "metadata": {},
   "source": [
    "- c) No debe haber ningún instrumento de renta fija?\n"
   ]
  },
  {
   "cell_type": "markdown",
   "id": "55421049",
   "metadata": {},
   "source": [
    "Para calcular el número de maneras de formar el portafolio si no debe haber ningún instrumento de renta fija (es decir, todos los instrumentos deben ser de renta variable)\n",
    "\n",
    "Debemos de elegir 4 instrumentos de renta variable de los 6 que estan disponibles\n",
    "$$\n",
    "\\begin {align}\n",
    "    _6C_4 = \\dfrac{6!}{4!(6 - 4 )!}\\\\\n",
    "    _6C_4 = \\dfrac{6!}{4!(2)!}\\\\\n",
    "    _6C_4 = \\dfrac{6 \\cdot 5 \\cdot 4!}{4!(2)!}\\\\\n",
    "    _6C_4 = \\dfrac{6 \\cdot 5}{2 \\cdot 1 }\\\\\n",
    "    _6C_4 = \\dfrac{30}{2}\\\\\n",
    "    _6C_4 = 15    \n",
    "\\end{align}\n",
    "$$\n",
    "Entonces existen 15 maneras de formar el portafolio sin ningún instrumento de renta fija"
   ]
  },
  {
   "cell_type": "code",
   "execution_count": null,
   "id": "a6da9a03",
   "metadata": {},
   "outputs": [],
   "source": [
    "# Implementación de la solución del incisio c) del ejercicio 14\n",
    "\n",
    "# Definir los valores\n",
    "renta_variable = 6\n",
    "portafolio = 4\n",
    "\n",
    "# Calcular las combinaciones\n",
    "num_combinaciones = math.comb(renta_variable, portafolio)\n",
    "\n",
    "print(f\"El número de maneras de formar el portafolio sin ningún instrumento de renta fija es: {num_combinaciones}\")\n"
   ]
  },
  {
   "cell_type": "markdown",
   "id": "c1ba4fa8",
   "metadata": {},
   "source": [
    "- d) Debe haber tres instrumentos de renta fija?\n"
   ]
  },
  {
   "cell_type": "markdown",
   "id": "56bbbea4",
   "metadata": {},
   "source": [
    "Primeramente deberemos de elegir 3 instrumentos de renta fija de los 5 que tenemos disponibles \n",
    "\n",
    "$$\n",
    "\\begin {align}\n",
    "    _5C_3 = \\dfrac{5!}{3!(5 - 3)!}\\\\\n",
    "    _5C_3 = \\dfrac{5!}{3!(2)!}\\\\\n",
    "    _5C_3 = \\dfrac{5 \\cdot 4 \\cdot 3!}{3!(2)!}\\\\\n",
    "    _5C_3 = \\dfrac{5 \\cdot 4}{2 \\cdot 1 }\\\\\n",
    "    _5C_3 = \\dfrac{20}{2}\\\\\n",
    "    _5C_3 = 10    \n",
    "\\end{align}\n",
    "$$\n",
    "\n",
    "Ahora debemos de elegir 1 instrumento de renta variable de los 6 disponibles\n",
    "$$\n",
    "\\begin {align}\n",
    "    _6C_1 = \\dfrac{6!}{1!(6 - 1)!}\\\\\n",
    "    _6C_1 = \\dfrac{6!}{1!(5)!}\\\\\n",
    "    _6C_1 = \\dfrac{6 \\cdot 5!}{1!(5)!}\\\\\n",
    "    _6C_1 = \\dfrac{6}{1}\\\\\n",
    "    _6C_1 = 6    \n",
    "\\end{align}\n",
    "$$\n",
    "\n",
    "Por ultimo tenemos que multiplicar ambas combinaciones\n",
    "$$\n",
    "\\begin{align}\n",
    "_5C_3 ~ \\cdot ~ _6C_1 = 10 \\cdot 6 = 60\n",
    "\\end{align}\n",
    "$$\n",
    "\n",
    "Entonces tenemos como resultado que hay 60 maneras de formar el portafolio si debe de haber 3 instrumentos de renta fija"
   ]
  },
  {
   "cell_type": "code",
   "execution_count": null,
   "id": "9dcb3379",
   "metadata": {},
   "outputs": [],
   "source": [
    "# Implementación de la solución del incisio d) del ejercicio 14\n",
    "\n",
    "# Calcular las combinaciones\n",
    "combinaciones_renta_fija = math.comb(renta_fija, 3)\n",
    "combinaciones_renta_variable = math.comb(renta_variable, 1)\n",
    "\n",
    "# Multiplicar las combinaciones para obtener el total\n",
    "total_combinaciones = combinaciones_renta_fija * combinaciones_renta_variable\n",
    "\n",
    "print(f\"El número de maneras de formar el portafolio con exactamente 3 instrumentos de renta fija y 1 de renta variable es: {total_combinaciones}\")\n"
   ]
  },
  {
   "cell_type": "markdown",
   "id": "36dcd22c",
   "metadata": {},
   "source": [
    "- e) Calcula las probabilidades para los incisos anteriores.\n"
   ]
  },
  {
   "cell_type": "markdown",
   "id": "a1e9c79b",
   "metadata": {},
   "source": [
    "La probabilidad del inciso a) es 1 debido a que se consideran todas las combinaciones posibles \n",
    "\n",
    "$$\n",
    "\\begin{align}\n",
    "P(Sin~restricciones) = \\dfrac{330}{330} = 1\n",
    "\\end{align}\n",
    "$$\n",
    "\n",
    "Probabilidad inciso b) (Dos renta fija y dos de renta variable)\n",
    "\n",
    "Sabemos que hay 150 maneras de formar el portafolio con esa condición, entonces:  \n",
    "$$\n",
    "\\begin{align}\n",
    "P(2~renta~fija~y~2~renta~variable) = \\dfrac{150}{330} = 0.4545  \n",
    "\\end{align}\n",
    "$$\n",
    "\n",
    "Probabilidad inciso c) (Ningún instrumento de renta fija)\n",
    "Sabemos que hay 15 maneras de formar el portafolio con dicha condición, entonces: \n",
    "$$\n",
    "\\begin{align}\n",
    "P(0~renta~fija) = \\dfrac{15}{330} = 0.0455\n",
    "\\end{align}\n",
    "$$\n",
    "\n",
    "Probabilidad inciso d) (3 instrumentos de renta fija)\n",
    "Sabemos que hay 60 maneras de formar el portafolio con esa condición, entonces:\n",
    "$$\n",
    "\\begin{align}\n",
    "P(3~renta~fija) = \\dfrac{60}{330} = 0.1818\n",
    "\\end{align}\n",
    "$$\n"
   ]
  },
  {
   "cell_type": "code",
   "execution_count": null,
   "id": "16f72c60",
   "metadata": {},
   "outputs": [],
   "source": [
    "# Probabilidades para los diferentes incisos\n",
    "prob_a = 1.0  # Probabilidad para inciso a) sin restricciones es siempre 1.0\n",
    "\n",
    "# Número de combinaciones calculadas previamente\n",
    "num_comb_b = 150\n",
    "num_comb_c = 15\n",
    "num_comb_d = 60\n",
    "\n",
    "# Número total de combinaciones sin restricciones\n",
    "total_combinations = 330\n",
    "\n",
    "# Calcular probabilidades para los incisos b), c) y d)\n",
    "prob_b = num_comb_b / total_combinations\n",
    "prob_c = num_comb_c / total_combinations\n",
    "prob_d = num_comb_d / total_combinations\n",
    "\n",
    "print(f\"Probabilidad para el inciso b): {prob_b:.4f}\")\n",
    "print(f\"Probabilidad para el inciso c): {prob_c:.4f}\")\n",
    "print(f\"Probabilidad para el inciso d): {prob_d:.4f}\")\n"
   ]
  },
  {
   "cell_type": "markdown",
   "id": "65424ea3",
   "metadata": {},
   "source": [
    "f) Investiga qué es un instrumento de renta fija y otro de renta variable.\n",
    "\n",
    "Renta fija: Los instrumentos de renta fija son activos financieros que representan un préstamo que un inversionista hace a un emisor (generalmente un gobierno, una empresa o una entidad financiera) a cambio de recibir pagos de interés regulares y el reembolso del capital al vencimiento del instrumento.\n",
    "\n",
    "Renta Variable: son activos financieros cuyo valor puede fluctuar en el mercado, lo que significa que no hay certeza sobre el rendimiento de la inversión y el inversor asume un mayor riesgo en comparación con los instrumentos de renta fija."
   ]
  },
  {
   "cell_type": "markdown",
   "id": "515a2f50-88dc-468b-802d-19f8f0f26eae",
   "metadata": {},
   "source": [
    "## 15"
   ]
  },
  {
   "cell_type": "markdown",
   "id": "67f65cd1-8c91-4384-bf48-d824fd0cedd1",
   "metadata": {},
   "source": [
    "## 16"
   ]
  },
  {
   "cell_type": "markdown",
   "id": "fe400271-a4cd-41ac-aaed-00146748df7d",
   "metadata": {},
   "source": [
    "## 17"
   ]
  }
 ],
 "metadata": {
  "kernelspec": {
   "display_name": "Python 3 (ipykernel)",
   "language": "python",
   "name": "python3"
  },
  "language_info": {
   "codemirror_mode": {
    "name": "ipython",
    "version": 3
   },
   "file_extension": ".py",
   "mimetype": "text/x-python",
   "name": "python",
   "nbconvert_exporter": "python",
   "pygments_lexer": "ipython3",
   "version": "3.11.4"
  }
 },
 "nbformat": 4,
 "nbformat_minor": 5
}
